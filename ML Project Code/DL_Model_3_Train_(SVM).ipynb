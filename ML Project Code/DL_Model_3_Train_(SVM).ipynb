{
  "nbformat": 4,
  "nbformat_minor": 0,
  "metadata": {
    "colab": {
      "name": "DL - Model 3 Train (SVM)",
      "provenance": []
    },
    "kernelspec": {
      "name": "python3",
      "display_name": "Python 3"
    },
    "language_info": {
      "name": "python"
    },
    "accelerator": "GPU"
  },
  "cells": [
    {
      "cell_type": "markdown",
      "source": [
        "## Change all the variable names and put your own written comments explaining everything "
      ],
      "metadata": {
        "id": "xnVAeiRTiYrp"
      }
    },
    {
      "cell_type": "code",
      "execution_count": null,
      "metadata": {
        "id": "F5ea2JUmhR4m"
      },
      "outputs": [],
      "source": [
        "import tensorflow as tf\n",
        "from tensorflow.keras.preprocessing.image import ImageDataGenerator"
      ]
    },
    {
      "cell_type": "code",
      "source": [
        "# Preprocessing and doing Data Augmentaion to the Training set\n",
        "train_datagen = ImageDataGenerator(rescale = 1./255,\n",
        "                                   shear_range = 0.2,\n",
        "                                   zoom_range = 0.2,\n",
        "                                   horizontal_flip = True)\n",
        "\n",
        "## We don't apply ImageDataGenerator to test dataset because Data augmentation is used to \n",
        "## add noise in data so that model can be generalized. There is no meaning to add noise in test data"
      ],
      "metadata": {
        "id": "XojRtNVmhbQX"
      },
      "execution_count": null,
      "outputs": []
    },
    {
      "cell_type": "code",
      "source": [
        "training_set = train_datagen.flow_from_directory(\"/content/drive/MyDrive/image_dataset_anomaly_detection/train\",\n",
        "                                                 target_size = (64, 64),\n",
        "                                                 batch_size = 32,\n",
        "                                                 class_mode = 'binary')"
      ],
      "metadata": {
        "colab": {
          "base_uri": "https://localhost:8080/"
        },
        "id": "D0RKThktiqDz",
        "outputId": "7ddc2e08-9e8f-4bc6-9d7a-fff12287f0a4"
      },
      "execution_count": null,
      "outputs": [
        {
          "output_type": "stream",
          "name": "stdout",
          "text": [
            "Found 6633 images belonging to 2 classes.\n"
          ]
        }
      ]
    },
    {
      "cell_type": "code",
      "source": [
        "# Preprocessing the Test set\n",
        "test_datagen = ImageDataGenerator(rescale = 1./255)\n",
        "test_set = test_datagen.flow_from_directory('/content/drive/MyDrive/image_dataset_anomaly_detection/test',\n",
        "                                            target_size = (64, 64),\n",
        "                                            batch_size = 32,\n",
        "                                            class_mode = 'binary')"
      ],
      "metadata": {
        "id": "A6fiZIjNi2te"
      },
      "execution_count": null,
      "outputs": []
    },
    {
      "cell_type": "code",
      "source": [
        "from tensorflow.keras.layers import Conv2D\n",
        "from tensorflow.keras.layers import Dense"
      ],
      "metadata": {
        "id": "xzrxcc4Mi8TN"
      },
      "execution_count": null,
      "outputs": []
    },
    {
      "cell_type": "code",
      "source": [
        "from tensorflow.keras.regularizers import l2"
      ],
      "metadata": {
        "id": "Lbn1h70Sjq38"
      },
      "execution_count": null,
      "outputs": []
    },
    {
      "cell_type": "code",
      "source": [
        "# Part 2 - Building the CNN\n",
        "# Initialising the CNN\n",
        "cnn_model = tf.keras.models.Sequential()\n",
        "\n",
        "# Step 1 - Creating a Convolution Layer\n",
        "cnn_model.add(tf.keras.layers.Conv2D(filters=32,padding=\"same\",kernel_size=3, activation='relu', strides=2, input_shape=[64, 64, 3]))\n",
        "\n",
        "# Step 2 - Adding a Pooling layer\n",
        "cnn_model.add(tf.keras.layers.MaxPool2D(pool_size=2, strides=2))\n",
        "\n",
        "# Step 3 - Adding another convolutional layer\n",
        "cnn_model.add(tf.keras.layers.Conv2D(filters=32,padding='same',kernel_size=3, activation='relu'))\n",
        "cnn_model.add(tf.keras.layers.MaxPool2D(pool_size=2, strides=2))\n",
        "\n",
        "# Step 4 - Flattening the layer so that it can be fed to the Dense Layer\n",
        "cnn_model.add(tf.keras.layers.Flatten())\n",
        "\n",
        "# Step 5 - Adding a Dense Layer\n",
        "cnn_model.add(tf.keras.layers.Dense(units=128, activation='relu'))\n",
        "\n",
        "# Step 5 - Converting it to SVM by using the L2 Regularizer parameter\n",
        "# using activation = linear since for binary classificaiton we use linear SVM\n",
        "cnn_model.add(Dense(1, kernel_regularizer=tf.keras.regularizers.l2(0.01),activation ='linear'))"
      ],
      "metadata": {
        "id": "B3hrwbD2j4yy"
      },
      "execution_count": null,
      "outputs": []
    },
    {
      "cell_type": "code",
      "source": [
        "cnn_model.summary()"
      ],
      "metadata": {
        "colab": {
          "base_uri": "https://localhost:8080/"
        },
        "id": "HRuFnmNFkv4_",
        "outputId": "47a60d1e-16c8-4109-f66e-4b1725fd7958"
      },
      "execution_count": null,
      "outputs": [
        {
          "output_type": "stream",
          "name": "stdout",
          "text": [
            "Model: \"sequential\"\n",
            "_________________________________________________________________\n",
            " Layer (type)                Output Shape              Param #   \n",
            "=================================================================\n",
            " conv2d (Conv2D)             (None, 32, 32, 32)        896       \n",
            "                                                                 \n",
            " max_pooling2d (MaxPooling2D  (None, 16, 16, 32)       0         \n",
            " )                                                               \n",
            "                                                                 \n",
            " conv2d_1 (Conv2D)           (None, 16, 16, 32)        9248      \n",
            "                                                                 \n",
            " max_pooling2d_1 (MaxPooling  (None, 8, 8, 32)         0         \n",
            " 2D)                                                             \n",
            "                                                                 \n",
            " flatten (Flatten)           (None, 2048)              0         \n",
            "                                                                 \n",
            " dense (Dense)               (None, 128)               262272    \n",
            "                                                                 \n",
            " dense_1 (Dense)             (None, 1)                 129       \n",
            "                                                                 \n",
            "=================================================================\n",
            "Total params: 272,545\n",
            "Trainable params: 272,545\n",
            "Non-trainable params: 0\n",
            "_________________________________________________________________\n"
          ]
        }
      ]
    },
    {
      "cell_type": "code",
      "source": [
        "# Compiling the CNN with loss hinge so it uses SVM\n",
        "cnn_model.compile(optimizer = 'adam', loss = 'hinge', metrics = ['accuracy'])\n",
        "\n",
        "# Training the CNN on the Training set and evaluating it on the Test set\n",
        "r=cnn_model.fit(x = training_set, validation_data = test_set, epochs = 10)"
      ],
      "metadata": {
        "colab": {
          "base_uri": "https://localhost:8080/"
        },
        "id": "y6fYw4wck0Sf",
        "outputId": "c4ab9407-20e9-4712-b7ff-ca5bcf99ad7a"
      },
      "execution_count": null,
      "outputs": [
        {
          "output_type": "stream",
          "name": "stdout",
          "text": [
            "Epoch 1/10\n",
            "208/208 [==============================] - 1619s 8s/step - loss: 0.7807 - accuracy: 0.6237 - val_loss: 0.6278 - val_accuracy: 0.7021\n",
            "Epoch 2/10\n",
            "208/208 [==============================] - 25s 119ms/step - loss: 0.5936 - accuracy: 0.7307 - val_loss: 0.4808 - val_accuracy: 0.7972\n",
            "Epoch 3/10\n",
            "208/208 [==============================] - 25s 118ms/step - loss: 0.4679 - accuracy: 0.7927 - val_loss: 0.5526 - val_accuracy: 0.8070\n",
            "Epoch 4/10\n",
            "208/208 [==============================] - 25s 121ms/step - loss: 0.3895 - accuracy: 0.8310 - val_loss: 0.6719 - val_accuracy: 0.7524\n",
            "Epoch 5/10\n",
            "208/208 [==============================] - 25s 119ms/step - loss: 0.3198 - accuracy: 0.8578 - val_loss: 0.5956 - val_accuracy: 0.7958\n",
            "Epoch 6/10\n",
            "208/208 [==============================] - 25s 118ms/step - loss: 0.3184 - accuracy: 0.8611 - val_loss: 0.4941 - val_accuracy: 0.8266\n",
            "Epoch 7/10\n",
            "208/208 [==============================] - 25s 119ms/step - loss: 0.2541 - accuracy: 0.8895 - val_loss: 0.4663 - val_accuracy: 0.8490\n",
            "Epoch 8/10\n",
            "208/208 [==============================] - 25s 118ms/step - loss: 0.2378 - accuracy: 0.8975 - val_loss: 0.3848 - val_accuracy: 0.8783\n",
            "Epoch 9/10\n",
            "208/208 [==============================] - 25s 118ms/step - loss: 0.2111 - accuracy: 0.9138 - val_loss: 0.4532 - val_accuracy: 0.8503\n",
            "Epoch 10/10\n",
            "208/208 [==============================] - 25s 118ms/step - loss: 0.1956 - accuracy: 0.9187 - val_loss: 0.2523 - val_accuracy: 0.9203\n"
          ]
        }
      ]
    },
    {
      "cell_type": "code",
      "source": [
        "# plot the loss\n",
        "import matplotlib.pyplot as plt\n",
        "plt.plot(r.history['loss'], label='Training Loss')\n",
        "plt.plot(r.history['val_loss'], label='Validation Loss')\n",
        "plt.legend()\n",
        "plt.show()\n",
        "plt.savefig('LossVal_loss')\n",
        "\n",
        "# plot the accuracy\n",
        "plt.plot(r.history['accuracy'], label='Training Accuracy')\n",
        "plt.plot(r.history['val_accuracy'], label='Validation Accuracy')\n",
        "plt.legend()\n",
        "plt.show()\n",
        "plt.savefig('AccVal_acc')"
      ],
      "metadata": {
        "colab": {
          "base_uri": "https://localhost:8080/",
          "height": 532
        },
        "id": "4QN2wfHclGki",
        "outputId": "33d2d34b-9d77-434a-e1db-811722aa6d96"
      },
      "execution_count": null,
      "outputs": [
        {
          "output_type": "display_data",
          "data": {
            "image/png": "[encoded data removed]",
            "text/plain": [
              "<Figure size 432x288 with 1 Axes>"
            ]
          },
          "metadata": {
            "needs_background": "light"
          }
        },
        {
          "output_type": "display_data",
          "data": {
            "image/png": "[encoded data removed]",
            "text/plain": [
              "<Figure size 432x288 with 1 Axes>"
            ]
          },
          "metadata": {
            "needs_background": "light"
          }
        },
        {
          "output_type": "display_data",
          "data": {
            "text/plain": [
              "<Figure size 432x288 with 0 Axes>"
            ]
          },
          "metadata": {}
        }
      ]
    },
    {
      "cell_type": "code",
      "source": [
        "from tensorflow.keras.models import load_model\n",
        "\n",
        "cnn_model.save('model_rcat_dog.h5')"
      ],
      "metadata": {
        "id": "ruUV-auIvlRW",
        "colab": {
          "base_uri": "https://localhost:8080/",
          "height": 204
        },
        "outputId": "d8a2aab3-9afd-4153-dd11-76c801df5ba6"
      },
      "execution_count": null,
      "outputs": [
        {
          "output_type": "error",
          "ename": "NameError",
          "evalue": "ignored",
          "traceback": [
            "\u001b[0;31m---------------------------------------------------------------------------\u001b[0m",
            "\u001b[0;31mNameError\u001b[0m                                 Traceback (most recent call last)",
            "\u001b[0;32m<ipython-input-4-73b84f09e466>\u001b[0m in \u001b[0;36m<module>\u001b[0;34m()\u001b[0m\n\u001b[1;32m      1\u001b[0m \u001b[0;32mfrom\u001b[0m \u001b[0mtensorflow\u001b[0m\u001b[0;34m.\u001b[0m\u001b[0mkeras\u001b[0m\u001b[0;34m.\u001b[0m\u001b[0mmodels\u001b[0m \u001b[0;32mimport\u001b[0m \u001b[0mload_model\u001b[0m\u001b[0;34m\u001b[0m\u001b[0;34m\u001b[0m\u001b[0m\n\u001b[1;32m      2\u001b[0m \u001b[0;34m\u001b[0m\u001b[0m\n\u001b[0;32m----> 3\u001b[0;31m \u001b[0mcnn_model\u001b[0m\u001b[0;34m.\u001b[0m\u001b[0msave\u001b[0m\u001b[0;34m(\u001b[0m\u001b[0;34m'model_rcat_dog.h5'\u001b[0m\u001b[0;34m)\u001b[0m\u001b[0;34m\u001b[0m\u001b[0;34m\u001b[0m\u001b[0m\n\u001b[0m",
            "\u001b[0;31mNameError\u001b[0m: name 'cnn_model' is not defined"
          ]
        }
      ]
    },
    {
      "cell_type": "code",
      "source": [
        "from tensorflow.keras.models import load_model\n",
        " \n",
        "# load model\n",
        "model = load_model('model_rcat_dog.h5')"
      ],
      "metadata": {
        "id": "Z6bqvoMDvt4U"
      },
      "execution_count": null,
      "outputs": []
    },
    {
      "cell_type": "code",
      "source": [
        "normal_path = '/content/drive/MyDrive/image_dataset_anomaly_detection/test/normal/cast_ok_0_10.jpeg'\n",
        "anomaly_path = '/content/drive/MyDrive/image_dataset_anomaly_detection/test/anomaly/cast_def_0_1059.jpeg'"
      ],
      "metadata": {
        "id": "MlUknbN9ycjs"
      },
      "execution_count": null,
      "outputs": []
    },
    {
      "cell_type": "code",
      "source": [
        "# Part 4 - Making a single prediction\n",
        "\n",
        "import numpy as np\n",
        "from tensorflow.keras.preprocessing import image\n",
        "test_image = image.load_img(normal_path, target_size = (64,64))\n",
        "test_image = image.img_to_array(test_image)\n",
        "test_image=test_image/255\n",
        "test_image = np.expand_dims(test_image, axis = 0)\n",
        "result = model.predict(test_image)"
      ],
      "metadata": {
        "id": "N2wTXBA1yPP6"
      },
      "execution_count": null,
      "outputs": []
    },
    {
      "cell_type": "code",
      "source": [
        "result"
      ],
      "metadata": {
        "colab": {
          "base_uri": "https://localhost:8080/"
        },
        "id": "J_yefhwYyjF4",
        "outputId": "5cbe4279-4972-46da-b1bd-be6f967c8cae"
      },
      "execution_count": null,
      "outputs": [
        {
          "output_type": "execute_result",
          "data": {
            "text/plain": [
              "array([[0.8107141]], dtype=float32)"
            ]
          },
          "metadata": {},
          "execution_count": 9
        }
      ]
    },
    {
      "cell_type": "code",
      "source": [
        "if result[0]<0:\n",
        "    print(\"The image classified is Anomaly\")\n",
        "else:\n",
        "    print(\"The image classified is Normal\")"
      ],
      "metadata": {
        "colab": {
          "base_uri": "https://localhost:8080/"
        },
        "id": "gsWJsS6Dyj7L",
        "outputId": "dcfd815e-8780-4954-aad7-705bb5d2287d"
      },
      "execution_count": null,
      "outputs": [
        {
          "output_type": "stream",
          "name": "stdout",
          "text": [
            "The image classified is Normal\n"
          ]
        }
      ]
    },
    {
      "cell_type": "code",
      "source": [
        "#Looping over all in order to calcuclate the evaluation metrics\n",
        "import os \n",
        "\n",
        "test_anomaly_path = \"/content/drive/MyDrive/image_dataset_anomaly_detection/test/anomaly/\"\n",
        "test_normal_path = \"/content/drive/MyDrive/image_dataset_anomaly_detection/test/normal/\"\n",
        "\n",
        "predicted_values = []\n",
        "actual_values = []\n",
        "\n",
        "#Iteration for all the Anomaly Images\n",
        "for current_image in os.listdir(test_anomaly_path):\n",
        "  current_image_path = os.path.join(test_anomaly_path, current_image) \n",
        "\n",
        "  test_image = image.load_img(current_image_path, target_size = (64,64))\n",
        "  test_image = image.img_to_array(test_image)\n",
        "  test_image=test_image/255\n",
        "  test_image = np.expand_dims(test_image, axis = 0)\n",
        "  result = model.predict(test_image)\n",
        "\n",
        "  if result[0]<0:\n",
        "    predicted_values.append(1)\n",
        "    ## it is an anomaly\n",
        "  else:\n",
        "    predicted_values.append(0)\n",
        "    ## It is a normal image\n",
        "\n",
        "  #Appending 1 for every iteration since all the images are anomaly.\n",
        "  actual_values.append(1)\n",
        "\n",
        "\n",
        "#Iteration for all the Anomaly Images\n",
        "for current_image in os.listdir(test_anomaly_path):\n",
        "  current_image_path = os.path.join(test_anomaly_path, current_image) \n",
        "\n",
        "  test_image = image.load_img(current_image_path, target_size = (64,64))\n",
        "  test_image = image.img_to_array(test_image)\n",
        "  test_image=test_image/255\n",
        "  test_image = np.expand_dims(test_image, axis = 0)\n",
        "  result = model.predict(test_image)\n",
        "\n",
        "  if result[0]<0:\n",
        "    predicted_values.append(1)\n",
        "    ## it is an anomaly\n",
        "  else:\n",
        "    predicted_values.append(0)\n",
        "    ## It is a normal image\n",
        "\n",
        "  #Appending 1 for every iteration since all the images are anomaly.\n",
        "  actual_values.append(0)"
      ],
      "metadata": {
        "id": "qTEzjyo7yurZ"
      },
      "execution_count": null,
      "outputs": []
    },
    {
      "cell_type": "code",
      "source": [
        "#Evaluating the Model using different Metrics\n",
        "\n",
        "from sklearn.metrics import accuracy_score,precision_score,recall_score,f1_score,confusion_matrix\n",
        "\n",
        "\n",
        "print(\"Precision score of the model %.3f\" % (precision_score(actual_values,predicted_values)))\n",
        "print(\"Recall score of the model %.3f\" % (recall_score(actual_values,predicted_values)))\n",
        "print(\"F1 score of the model %.3f\" % (f1_score(actual_values,predicted_values)))\n",
        "\n",
        "print(\"\\nAccuracy score of the model %.3f\" % (accuracy_score(actual_values,predicted_values)))\n",
        "\n",
        "print(\"\\nConfusion Matrix \\n \")\n",
        "print((confusion_matrix(actual_values,predicted_values)))"
      ],
      "metadata": {
        "colab": {
          "base_uri": "https://localhost:8080/"
        },
        "id": "kUurMyVMV9wr",
        "outputId": "bbc1d45b-0dbd-4dc7-cfb4-c558d28d7c1d"
      },
      "execution_count": null,
      "outputs": [
        {
          "output_type": "stream",
          "name": "stdout",
          "text": [
            "Precision score of the model 0.500\n",
            "Recall score of the model 0.857\n",
            "F1 score of the model 0.631\n",
            "\n",
            "Accuracy score of the model 0.500\n",
            "\n",
            "Confusion Matrix \n",
            " \n",
            "[[ 65 388]\n",
            " [ 65 388]]\n"
          ]
        }
      ]
    },
    {
      "cell_type": "code",
      "source": [
        ""
      ],
      "metadata": {
        "id": "cBcZ5U0-Xk_j"
      },
      "execution_count": null,
      "outputs": []
    }
  ]
}