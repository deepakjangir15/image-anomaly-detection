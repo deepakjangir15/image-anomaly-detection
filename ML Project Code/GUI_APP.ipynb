{
  "cells": [
    {
      "cell_type": "code",
      "execution_count": 1,
      "metadata": {
        "colab": {
          "base_uri": "https://localhost:8080/",
          "height": 1000
        },
        "id": "MSv9D0LU1LBD",
        "outputId": "47bd7341-b656-4677-f9c0-8dd2fb23148e"
      },
      "outputs": [
        {
          "name": "stdout",
          "output_type": "stream",
          "text": [
            "Collecting streamlit\n",
            "  Downloading streamlit-1.7.0-py2.py3-none-any.whl (9.9 MB)\n",
            "\u001b[K     |████████████████████████████████| 9.9 MB 4.1 MB/s \n",
            "\u001b[?25hRequirement already satisfied: pillow>=6.2.0 in /usr/local/lib/python3.7/dist-packages (from streamlit) (7.1.2)\n",
            "Requirement already satisfied: astor in /usr/local/lib/python3.7/dist-packages (from streamlit) (0.8.1)\n",
            "Requirement already satisfied: altair>=3.2.0 in /usr/local/lib/python3.7/dist-packages (from streamlit) (4.2.0)\n",
            "Requirement already satisfied: tzlocal in /usr/local/lib/python3.7/dist-packages (from streamlit) (1.5.1)\n",
            "Requirement already satisfied: attrs in /usr/local/lib/python3.7/dist-packages (from streamlit) (21.4.0)\n",
            "Requirement already satisfied: tornado>=5.0 in /usr/local/lib/python3.7/dist-packages (from streamlit) (5.1.1)\n",
            "Requirement already satisfied: packaging in /usr/local/lib/python3.7/dist-packages (from streamlit) (21.3)\n",
            "Collecting validators\n",
            "  Downloading validators-0.18.2-py3-none-any.whl (19 kB)\n",
            "Collecting gitpython!=3.1.19\n",
            "  Downloading GitPython-3.1.27-py3-none-any.whl (181 kB)\n",
            "\u001b[K     |████████████████████████████████| 181 kB 19.5 MB/s \n",
            "\u001b[?25hCollecting pydeck>=0.1.dev5\n",
            "  Downloading pydeck-0.7.1-py2.py3-none-any.whl (4.3 MB)\n",
            "\u001b[K     |████████████████████████████████| 4.3 MB 42.3 MB/s \n",
            "\u001b[?25hCollecting blinker\n",
            "  Downloading blinker-1.4.tar.gz (111 kB)\n",
            "\u001b[K     |████████████████████████████████| 111 kB 44.2 MB/s \n",
            "\u001b[?25hRequirement already satisfied: click>=7.0 in /usr/local/lib/python3.7/dist-packages (from streamlit) (7.1.2)\n",
            "Requirement already satisfied: pandas>=0.21.0 in /usr/local/lib/python3.7/dist-packages (from streamlit) (1.3.5)\n",
            "Requirement already satisfied: importlib-metadata>=1.4 in /usr/local/lib/python3.7/dist-packages (from streamlit) (4.11.2)\n",
            "Collecting toml\n",
            "  Downloading toml-0.10.2-py2.py3-none-any.whl (16 kB)\n",
            "Requirement already satisfied: cachetools>=4.0 in /usr/local/lib/python3.7/dist-packages (from streamlit) (4.2.4)\n",
            "Collecting pympler>=0.9\n",
            "  Downloading Pympler-1.0.1-py3-none-any.whl (164 kB)\n",
            "\u001b[K     |████████████████████████████████| 164 kB 47.1 MB/s \n",
            "\u001b[?25hRequirement already satisfied: semver in /usr/local/lib/python3.7/dist-packages (from streamlit) (2.13.0)\n",
            "Requirement already satisfied: numpy in /usr/local/lib/python3.7/dist-packages (from streamlit) (1.21.5)\n",
            "Collecting base58\n",
            "  Downloading base58-2.1.1-py3-none-any.whl (5.6 kB)\n",
            "Requirement already satisfied: python-dateutil in /usr/local/lib/python3.7/dist-packages (from streamlit) (2.8.2)\n",
            "Requirement already satisfied: protobuf!=3.11,>=3.6.0 in /usr/local/lib/python3.7/dist-packages (from streamlit) (3.17.3)\n",
            "Requirement already satisfied: pyarrow in /usr/local/lib/python3.7/dist-packages (from streamlit) (6.0.1)\n",
            "Collecting watchdog\n",
            "  Downloading watchdog-2.1.6-py3-none-manylinux2014_x86_64.whl (76 kB)\n",
            "\u001b[K     |████████████████████████████████| 76 kB 5.2 MB/s \n",
            "\u001b[?25hRequirement already satisfied: typing-extensions in /usr/local/lib/python3.7/dist-packages (from streamlit) (3.10.0.2)\n",
            "Requirement already satisfied: requests in /usr/local/lib/python3.7/dist-packages (from streamlit) (2.23.0)\n",
            "Requirement already satisfied: jinja2 in /usr/local/lib/python3.7/dist-packages (from altair>=3.2.0->streamlit) (2.11.3)\n",
            "Requirement already satisfied: toolz in /usr/local/lib/python3.7/dist-packages (from altair>=3.2.0->streamlit) (0.11.2)\n",
            "Requirement already satisfied: entrypoints in /usr/local/lib/python3.7/dist-packages (from altair>=3.2.0->streamlit) (0.4)\n",
            "Requirement already satisfied: jsonschema>=3.0 in /usr/local/lib/python3.7/dist-packages (from altair>=3.2.0->streamlit) (4.3.3)\n",
            "Collecting gitdb<5,>=4.0.1\n",
            "  Downloading gitdb-4.0.9-py3-none-any.whl (63 kB)\n",
            "\u001b[K     |████████████████████████████████| 63 kB 1.8 MB/s \n",
            "\u001b[?25hCollecting smmap<6,>=3.0.1\n",
            "  Downloading smmap-5.0.0-py3-none-any.whl (24 kB)\n",
            "Requirement already satisfied: zipp>=0.5 in /usr/local/lib/python3.7/dist-packages (from importlib-metadata>=1.4->streamlit) (3.7.0)\n",
            "Requirement already satisfied: pyrsistent!=0.17.0,!=0.17.1,!=0.17.2,>=0.14.0 in /usr/local/lib/python3.7/dist-packages (from jsonschema>=3.0->altair>=3.2.0->streamlit) (0.18.1)\n",
            "Requirement already satisfied: importlib-resources>=1.4.0 in /usr/local/lib/python3.7/dist-packages (from jsonschema>=3.0->altair>=3.2.0->streamlit) (5.4.0)\n",
            "Requirement already satisfied: pytz>=2017.3 in /usr/local/lib/python3.7/dist-packages (from pandas>=0.21.0->streamlit) (2018.9)\n",
            "Requirement already satisfied: six>=1.9 in /usr/local/lib/python3.7/dist-packages (from protobuf!=3.11,>=3.6.0->streamlit) (1.15.0)\n",
            "Collecting ipykernel>=5.1.2\n",
            "  Downloading ipykernel-6.9.1-py3-none-any.whl (128 kB)\n",
            "\u001b[K     |████████████████████████████████| 128 kB 50.8 MB/s \n",
            "\u001b[?25hRequirement already satisfied: ipywidgets>=7.0.0 in /usr/local/lib/python3.7/dist-packages (from pydeck>=0.1.dev5->streamlit) (7.6.5)\n",
            "Requirement already satisfied: traitlets>=4.3.2 in /usr/local/lib/python3.7/dist-packages (from pydeck>=0.1.dev5->streamlit) (5.1.1)\n",
            "Collecting ipython>=7.23.1\n",
            "  Downloading ipython-7.32.0-py3-none-any.whl (793 kB)\n",
            "\u001b[K     |████████████████████████████████| 793 kB 52.7 MB/s \n",
            "\u001b[?25hRequirement already satisfied: nest-asyncio in /usr/local/lib/python3.7/dist-packages (from ipykernel>=5.1.2->pydeck>=0.1.dev5->streamlit) (1.5.4)\n",
            "Requirement already satisfied: jupyter-client<8.0 in /usr/local/lib/python3.7/dist-packages (from ipykernel>=5.1.2->pydeck>=0.1.dev5->streamlit) (5.3.5)\n",
            "Requirement already satisfied: debugpy<2.0,>=1.0.0 in /usr/local/lib/python3.7/dist-packages (from ipykernel>=5.1.2->pydeck>=0.1.dev5->streamlit) (1.0.0)\n",
            "Requirement already satisfied: matplotlib-inline<0.2.0,>=0.1.0 in /usr/local/lib/python3.7/dist-packages (from ipykernel>=5.1.2->pydeck>=0.1.dev5->streamlit) (0.1.3)\n",
            "Requirement already satisfied: pexpect>4.3 in /usr/local/lib/python3.7/dist-packages (from ipython>=7.23.1->ipykernel>=5.1.2->pydeck>=0.1.dev5->streamlit) (4.8.0)\n",
            "Requirement already satisfied: pickleshare in /usr/local/lib/python3.7/dist-packages (from ipython>=7.23.1->ipykernel>=5.1.2->pydeck>=0.1.dev5->streamlit) (0.7.5)\n",
            "Requirement already satisfied: pygments in /usr/local/lib/python3.7/dist-packages (from ipython>=7.23.1->ipykernel>=5.1.2->pydeck>=0.1.dev5->streamlit) (2.6.1)\n",
            "Requirement already satisfied: jedi>=0.16 in /usr/local/lib/python3.7/dist-packages (from ipython>=7.23.1->ipykernel>=5.1.2->pydeck>=0.1.dev5->streamlit) (0.18.1)\n",
            "Requirement already satisfied: decorator in /usr/local/lib/python3.7/dist-packages (from ipython>=7.23.1->ipykernel>=5.1.2->pydeck>=0.1.dev5->streamlit) (4.4.2)\n",
            "Collecting prompt-toolkit!=3.0.0,!=3.0.1,<3.1.0,>=2.0.0\n",
            "  Downloading prompt_toolkit-3.0.28-py3-none-any.whl (380 kB)\n",
            "\u001b[K     |████████████████████████████████| 380 kB 58.9 MB/s \n",
            "\u001b[?25hRequirement already satisfied: backcall in /usr/local/lib/python3.7/dist-packages (from ipython>=7.23.1->ipykernel>=5.1.2->pydeck>=0.1.dev5->streamlit) (0.2.0)\n",
            "Requirement already satisfied: setuptools>=18.5 in /usr/local/lib/python3.7/dist-packages (from ipython>=7.23.1->ipykernel>=5.1.2->pydeck>=0.1.dev5->streamlit) (57.4.0)\n",
            "Requirement already satisfied: nbformat>=4.2.0 in /usr/local/lib/python3.7/dist-packages (from ipywidgets>=7.0.0->pydeck>=0.1.dev5->streamlit) (5.1.3)\n",
            "Requirement already satisfied: widgetsnbextension~=3.5.0 in /usr/local/lib/python3.7/dist-packages (from ipywidgets>=7.0.0->pydeck>=0.1.dev5->streamlit) (3.5.2)\n",
            "Requirement already satisfied: ipython-genutils~=0.2.0 in /usr/local/lib/python3.7/dist-packages (from ipywidgets>=7.0.0->pydeck>=0.1.dev5->streamlit) (0.2.0)\n",
            "Requirement already satisfied: jupyterlab-widgets>=1.0.0 in /usr/local/lib/python3.7/dist-packages (from ipywidgets>=7.0.0->pydeck>=0.1.dev5->streamlit) (1.0.2)\n",
            "Requirement already satisfied: parso<0.9.0,>=0.8.0 in /usr/local/lib/python3.7/dist-packages (from jedi>=0.16->ipython>=7.23.1->ipykernel>=5.1.2->pydeck>=0.1.dev5->streamlit) (0.8.3)\n",
            "Requirement already satisfied: MarkupSafe>=0.23 in /usr/local/lib/python3.7/dist-packages (from jinja2->altair>=3.2.0->streamlit) (2.0.1)\n",
            "Requirement already satisfied: pyzmq>=13 in /usr/local/lib/python3.7/dist-packages (from jupyter-client<8.0->ipykernel>=5.1.2->pydeck>=0.1.dev5->streamlit) (22.3.0)\n",
            "Requirement already satisfied: jupyter-core>=4.6.0 in /usr/local/lib/python3.7/dist-packages (from jupyter-client<8.0->ipykernel>=5.1.2->pydeck>=0.1.dev5->streamlit) (4.9.2)\n",
            "Requirement already satisfied: ptyprocess>=0.5 in /usr/local/lib/python3.7/dist-packages (from pexpect>4.3->ipython>=7.23.1->ipykernel>=5.1.2->pydeck>=0.1.dev5->streamlit) (0.7.0)\n",
            "Requirement already satisfied: wcwidth in /usr/local/lib/python3.7/dist-packages (from prompt-toolkit!=3.0.0,!=3.0.1,<3.1.0,>=2.0.0->ipython>=7.23.1->ipykernel>=5.1.2->pydeck>=0.1.dev5->streamlit) (0.2.5)\n",
            "Requirement already satisfied: notebook>=4.4.1 in /usr/local/lib/python3.7/dist-packages (from widgetsnbextension~=3.5.0->ipywidgets>=7.0.0->pydeck>=0.1.dev5->streamlit) (5.3.1)\n",
            "Requirement already satisfied: terminado>=0.8.1 in /usr/local/lib/python3.7/dist-packages (from notebook>=4.4.1->widgetsnbextension~=3.5.0->ipywidgets>=7.0.0->pydeck>=0.1.dev5->streamlit) (0.13.3)\n",
            "Requirement already satisfied: nbconvert in /usr/local/lib/python3.7/dist-packages (from notebook>=4.4.1->widgetsnbextension~=3.5.0->ipywidgets>=7.0.0->pydeck>=0.1.dev5->streamlit) (5.6.1)\n",
            "Requirement already satisfied: Send2Trash in /usr/local/lib/python3.7/dist-packages (from notebook>=4.4.1->widgetsnbextension~=3.5.0->ipywidgets>=7.0.0->pydeck>=0.1.dev5->streamlit) (1.8.0)\n",
            "Requirement already satisfied: pandocfilters>=1.4.1 in /usr/local/lib/python3.7/dist-packages (from nbconvert->notebook>=4.4.1->widgetsnbextension~=3.5.0->ipywidgets>=7.0.0->pydeck>=0.1.dev5->streamlit) (1.5.0)\n",
            "Requirement already satisfied: testpath in /usr/local/lib/python3.7/dist-packages (from nbconvert->notebook>=4.4.1->widgetsnbextension~=3.5.0->ipywidgets>=7.0.0->pydeck>=0.1.dev5->streamlit) (0.6.0)\n",
            "Requirement already satisfied: bleach in /usr/local/lib/python3.7/dist-packages (from nbconvert->notebook>=4.4.1->widgetsnbextension~=3.5.0->ipywidgets>=7.0.0->pydeck>=0.1.dev5->streamlit) (4.1.0)\n",
            "Requirement already satisfied: mistune<2,>=0.8.1 in /usr/local/lib/python3.7/dist-packages (from nbconvert->notebook>=4.4.1->widgetsnbextension~=3.5.0->ipywidgets>=7.0.0->pydeck>=0.1.dev5->streamlit) (0.8.4)\n",
            "Requirement already satisfied: defusedxml in /usr/local/lib/python3.7/dist-packages (from nbconvert->notebook>=4.4.1->widgetsnbextension~=3.5.0->ipywidgets>=7.0.0->pydeck>=0.1.dev5->streamlit) (0.7.1)\n",
            "Requirement already satisfied: webencodings in /usr/local/lib/python3.7/dist-packages (from bleach->nbconvert->notebook>=4.4.1->widgetsnbextension~=3.5.0->ipywidgets>=7.0.0->pydeck>=0.1.dev5->streamlit) (0.5.1)\n",
            "Requirement already satisfied: pyparsing!=3.0.5,>=2.0.2 in /usr/local/lib/python3.7/dist-packages (from packaging->streamlit) (3.0.7)\n",
            "Requirement already satisfied: idna<3,>=2.5 in /usr/local/lib/python3.7/dist-packages (from requests->streamlit) (2.10)\n",
            "Requirement already satisfied: certifi>=2017.4.17 in /usr/local/lib/python3.7/dist-packages (from requests->streamlit) (2021.10.8)\n",
            "Requirement already satisfied: chardet<4,>=3.0.2 in /usr/local/lib/python3.7/dist-packages (from requests->streamlit) (3.0.4)\n",
            "Requirement already satisfied: urllib3!=1.25.0,!=1.25.1,<1.26,>=1.21.1 in /usr/local/lib/python3.7/dist-packages (from requests->streamlit) (1.24.3)\n",
            "Building wheels for collected packages: blinker\n",
            "  Building wheel for blinker (setup.py) ... \u001b[?25l\u001b[?25hdone\n",
            "  Created wheel for blinker: filename=blinker-1.4-py3-none-any.whl size=13478 sha256=3887f9027e70fb2ca70ad1dfe05bd3223851c94b2702b95217fcdd918bb31759\n",
            "  Stored in directory: /root/.cache/pip/wheels/22/f5/18/df711b66eb25b21325c132757d4314db9ac5e8dabeaf196eab\n",
            "Successfully built blinker\n",
            "Installing collected packages: prompt-toolkit, ipython, ipykernel, smmap, gitdb, watchdog, validators, toml, pympler, pydeck, gitpython, blinker, base58, streamlit\n",
            "  Attempting uninstall: prompt-toolkit\n",
            "    Found existing installation: prompt-toolkit 1.0.18\n",
            "    Uninstalling prompt-toolkit-1.0.18:\n",
            "      Successfully uninstalled prompt-toolkit-1.0.18\n",
            "  Attempting uninstall: ipython\n",
            "    Found existing installation: ipython 5.5.0\n",
            "    Uninstalling ipython-5.5.0:\n",
            "      Successfully uninstalled ipython-5.5.0\n",
            "  Attempting uninstall: ipykernel\n",
            "    Found existing installation: ipykernel 4.10.1\n",
            "    Uninstalling ipykernel-4.10.1:\n",
            "      Successfully uninstalled ipykernel-4.10.1\n",
            "\u001b[31mERROR: pip's dependency resolver does not currently take into account all the packages that are installed. This behaviour is the source of the following dependency conflicts.\n",
            "jupyter-console 5.2.0 requires prompt-toolkit<2.0.0,>=1.0.0, but you have prompt-toolkit 3.0.28 which is incompatible.\n",
            "google-colab 1.0.0 requires ipykernel~=4.10, but you have ipykernel 6.9.1 which is incompatible.\n",
            "google-colab 1.0.0 requires ipython~=5.5.0, but you have ipython 7.32.0 which is incompatible.\u001b[0m\n",
            "Successfully installed base58-2.1.1 blinker-1.4 gitdb-4.0.9 gitpython-3.1.27 ipykernel-6.9.1 ipython-7.32.0 prompt-toolkit-3.0.28 pydeck-0.7.1 pympler-1.0.1 smmap-5.0.0 streamlit-1.7.0 toml-0.10.2 validators-0.18.2 watchdog-2.1.6\n"
          ]
        },
        {
          "data": {
            "application/vnd.colab-display-data+json": {
              "pip_warning": {
                "packages": [
                  "IPython",
                  "ipykernel",
                  "prompt_toolkit"
                ]
              }
            }
          },
          "metadata": {},
          "output_type": "display_data"
        },
        {
          "name": "stdout",
          "output_type": "stream",
          "text": [
            "Collecting pyngrok\n",
            "  Downloading pyngrok-5.1.0.tar.gz (745 kB)\n",
            "\u001b[K     |████████████████████████████████| 745 kB 3.2 MB/s \n",
            "\u001b[?25hRequirement already satisfied: PyYAML in /usr/local/lib/python3.7/dist-packages (from pyngrok) (3.13)\n",
            "Building wheels for collected packages: pyngrok\n",
            "  Building wheel for pyngrok (setup.py) ... \u001b[?25l\u001b[?25hdone\n",
            "  Created wheel for pyngrok: filename=pyngrok-5.1.0-py3-none-any.whl size=19007 sha256=275d3a041454c42207f2da242b5a0abe1d130cdab63f0b288319604f7a199829\n",
            "  Stored in directory: /root/.cache/pip/wheels/bf/e6/af/ccf6598ecefecd44104069371795cb9b3afbcd16987f6ccfb3\n",
            "Successfully built pyngrok\n",
            "Installing collected packages: pyngrok\n",
            "Successfully installed pyngrok-5.1.0\n"
          ]
        }
      ],
      "source": [
        "# Install two libraries used to create a GUI and host it online on colab\n",
        "!pip install streamlit\n",
        "!pip install pyngrok"
      ]
    },
    {
      "cell_type": "code",
      "execution_count": 9,
      "metadata": {
        "colab": {
          "base_uri": "https://localhost:8080/"
        },
        "id": "q4if-Ofu1rua",
        "outputId": "3790587c-ef80-42fb-9a3e-48635e080936"
      },
      "outputs": [
        {
          "name": "stdout",
          "output_type": "stream",
          "text": [
            "Archive:  /content/64X3-CNN.model.zip\n",
            "   creating: 64X3-CNN.model/\n",
            "replace __MACOSX/._64X3-CNN.model? [y]es, [n]o, [A]ll, [N]one, [r]ename: y\n",
            "  inflating: __MACOSX/._64X3-CNN.model  \n",
            "  inflating: 64X3-CNN.model/keras_metadata.pb  \n",
            "replace __MACOSX/64X3-CNN.model/._keras_metadata.pb? [y]es, [n]o, [A]ll, [N]one, [r]ename: y\n",
            "  inflating: __MACOSX/64X3-CNN.model/._keras_metadata.pb  \n",
            "   creating: 64X3-CNN.model/variables/\n",
            "replace __MACOSX/64X3-CNN.model/._variables? [y]es, [n]o, [A]ll, [N]one, [r]ename: y\n",
            "  inflating: __MACOSX/64X3-CNN.model/._variables  \n",
            "  inflating: 64X3-CNN.model/saved_model.pb  \n",
            "replace __MACOSX/64X3-CNN.model/._saved_model.pb? [y]es, [n]o, [A]ll, [N]one, [r]ename: a\n",
            "error:  invalid response [a]\n",
            "replace __MACOSX/64X3-CNN.model/._saved_model.pb? [y]es, [n]o, [A]ll, [N]one, [r]ename: A\n",
            "  inflating: __MACOSX/64X3-CNN.model/._saved_model.pb  \n",
            "   creating: 64X3-CNN.model/assets/\n",
            "  inflating: __MACOSX/64X3-CNN.model/._assets  \n",
            "  inflating: 64X3-CNN.model/variables/variables.data-00000-of-00001  \n",
            "  inflating: __MACOSX/64X3-CNN.model/variables/._variables.data-00000-of-00001  \n",
            "  inflating: 64X3-CNN.model/variables/variables.index  \n",
            "  inflating: __MACOSX/64X3-CNN.model/variables/._variables.index  \n"
          ]
        }
      ],
      "source": [
        "## Unzipping the following code to unzip any imported models.\n",
        "\n",
        "!unzip /content/64X3-CNN.model.zip\n",
        "# !unzip /content/CNN-RF.model.zip"
      ]
    },
    {
      "cell_type": "code",
      "execution_count": 19,
      "metadata": {
        "colab": {
          "base_uri": "https://localhost:8080/"
        },
        "id": "gmGzGCKp1vPY",
        "outputId": "d8e32426-7df6-443a-fa66-27c0f3cd7612"
      },
      "outputs": [
        {
          "name": "stdout",
          "output_type": "stream",
          "text": [
            "Overwriting app.py\n"
          ]
        }
      ],
      "source": [
        "## App coding starts from here\n",
        "\n",
        "%%writefile app.py\n",
        "import streamlit as st\n",
        "from PIL import Image\n",
        "import cv2\n",
        "import numpy as np\n",
        "import tensorflow as tf\n",
        "import pandas as pd\n",
        "\n",
        "# Use the Image Data Generator to import the images from the dataset\n",
        "from tensorflow.keras.preprocessing.image import ImageDataGenerator\n",
        "from tensorflow.keras.applications.inception_v3 import preprocess_input\n",
        "from tensorflow.keras.preprocessing import image\n",
        "\n",
        "PAGE_CONFIG = {\"page_title\":\"Group 32 - KU\",\"page_icon\":\":smiley:\",\"layout\":\"centered\"}\n",
        "st.set_page_config(**PAGE_CONFIG)\n",
        "\n",
        "Image_size = 100\n",
        "Results = ['Normal',\"Anomaly\"]\n",
        "\n",
        "team_members = ['Deepak Jangir Dayanand','Sagrika Bhandari','Shweta Nair','Preshit Dwivedi']\n",
        "team_members_id = ['K2161089','K2145485','K2144813','K2145296']\n",
        "df = pd.DataFrame({\"Team Members\": team_members,\n",
        "                   \"Team ID's\": team_members_id})\n",
        "\n",
        "df = df.set_index(\"Team ID's\")\n",
        "\n",
        "## Importing all the models implemented\n",
        "model1 = tf.keras.models.load_model('64X3-CNN.model')\n",
        "model3 = tf.keras.models.load_model('CNN_SVM.h5')\n",
        "modelresnet = tf.keras.models.load_model('model_resnet50.h5')\n",
        "modelrf = tf.keras.models.load_model('CNN-RF.model')\n",
        "\n",
        "def load_image(image_file):\n",
        "  img = Image.open(image_file)\n",
        "  return img\n",
        "\n",
        "#Required for Model 1 - CNN\n",
        "def convert_to_image_array_opencv(image_file):\n",
        "\n",
        "  img = Image.open(image_file)\n",
        "  img = img.save(\"img.jpg\")\n",
        "\n",
        "  # OpenCv Read\n",
        "  opencv_image = cv2.imread(\"img.jpg\", cv2.IMREAD_GRAYSCALE)\n",
        "  Resized_array = cv2.resize(opencv_image,(Image_size, Image_size))\n",
        "\n",
        "  return Resized_array.reshape(-1,Image_size,Image_size,1)\n",
        "\n",
        "#Required for Model 3 - SVM\n",
        "def predict_anomaly_SVM(image_file):\n",
        "  img = Image.open(image_file)\n",
        "  img = img.save(\"img-SVM.jpg\")\n",
        "\n",
        "  test_image = image.load_img(\"img-SVM.jpg\", target_size = (64,64))\n",
        "  test_image = image.img_to_array(test_image)\n",
        "  test_image = test_image/255\n",
        "  test_image = np.expand_dims(test_image, axis = 0)\n",
        "  result = model3.predict(test_image)\n",
        "  \n",
        "  return result\n",
        "\n",
        "\n",
        "def display_image_details_and_image(uploaded_image_file):\n",
        "\n",
        "  file_details = {\"File Name\":uploaded_image_file.name, \"File Type\":uploaded_image_file.type,\n",
        "                        \"File Size\":uploaded_image_file.size}\n",
        "  st.write(file_details)\n",
        "  st.image(load_image(uploaded_image_file),width=250)\n",
        "\n",
        "\n",
        "def main():\n",
        "    st.title(\"Image Anamoly Detection Models using Deep Learning\")\n",
        " \n",
        "    with st.sidebar:\n",
        "      st.subheader(\"Deep Learning Trained Models\")\n",
        "      model_names = [\"Explore Models\",\n",
        "                     \"Model 1 - Designed CNN\",\n",
        "                     \"Model 2 - DL using SVM\",\n",
        "                     \"Model 3 - Using CNN filter and RF\",\n",
        "                     \"Model 4 - Transfer Learning - resnet50\"]\n",
        "      choice = st.sidebar.selectbox(label = \"Choose a Model\",options=model_names)\n",
        "\n",
        "      st.sidebar.table(df)\n",
        "\n",
        "    if choice == 'Explore Models':\n",
        "        st.subheader(\"Choose a Model to start detecting Anomalies\")\n",
        "\n",
        "    elif choice == 'Model 1 - Designed CNN':\n",
        "      st.subheader(\"A Convolutional neural network model built using 2 Dense layers, 3 Convolutional layers having the layer sizes as 64\")\n",
        "      uploaded_image_file = st.file_uploader(\"Upload your Image to be tested\", type=[\"png\",\"jpg\",\"jpeg\"])\n",
        "\n",
        "      if uploaded_image_file is not None:\n",
        "\n",
        "        display_image_details_and_image(uploaded_image_file)\n",
        "\n",
        "        model_prediction = model1.predict([convert_to_image_array_opencv(uploaded_image_file)])\n",
        "\n",
        "        if int(model_prediction) == 0:\n",
        "          st.success(\"The Image is found to be : \" + Results[int(model_prediction)])\n",
        "        else:\n",
        "          st.error(\"The Image is found to be : \" + Results[int(model_prediction)])\n",
        "\n",
        "    elif choice == 'Model 2 - DL using SVM':\n",
        "      st.subheader(\"In this model, the SVM classifier is used in a convolutional neural network to do the Anomaly Detection\")\n",
        "      uploaded_image_file = st.file_uploader(\"Upload your Image to be tested\", type=[\"png\",\"jpg\",\"jpeg\"])\n",
        "\n",
        "      if uploaded_image_file is not None:\n",
        "\n",
        "        display_image_details_and_image(uploaded_image_file)\n",
        "\n",
        "        model_prediction = predict_anomaly_SVM(uploaded_image_file)\n",
        "\n",
        "        if model_prediction[0] < 0:\n",
        "          st.error(\"The Image is found to be : Anomaly\")\n",
        "        else:\n",
        "          st.success(\"The Image is found to be : Normal\")\n",
        "\n",
        "    elif choice == 'Model 3 - Using CNN filter and RF':\n",
        "      st.subheader(\"The main aim in this model was to make use of the Convolutional Neural Networks in such a way, that its filters could be extracted and later use them as input features to a Traditional Random Forest Classifier in order to detect anomalies in an Image.\")\n",
        "      uploaded_image_file = st.file_uploader(\"Upload your Image to be tested\", type=[\"png\",\"jpg\",\"jpeg\"])\n",
        "\n",
        "      if uploaded_image_file is not None:\n",
        "\n",
        "        display_image_details_and_image(uploaded_image_file)\n",
        "\n",
        "        model_prediction = model1.predict([convert_to_image_array_opencv(uploaded_image_file)])\n",
        "\n",
        "        if int(model_prediction) == 0:\n",
        "          st.success(\"The Image is found to be : \" + Results[int(model_prediction)])\n",
        "        else:\n",
        "          st.error(\"The Image is found to be : \" + Results[int(model_prediction)])\n",
        "\n",
        "    elif choice == 'Model 4 - Transfer Learning - resnet50':\n",
        "      st.subheader(\"For the analysis of the existing DNN’s we used Transfer Learning by making use of the Resnet50 architecture. We utilised the weights which were obtained when the model was trained on the Imagenet data set.\")\n",
        "      uploaded_image_file = st.file_uploader(\"Upload your Image to be tested\", type=[\"png\",\"jpg\",\"jpeg\"])\n",
        "\n",
        "      if uploaded_image_file is not None:\n",
        "\n",
        "        display_image_details_and_image(uploaded_image_file)\n",
        "\n",
        "        img = Image.open(uploaded_image_file)\n",
        "        img = img.save(\"img-RF.jpg\")\n",
        "\n",
        "\n",
        "        img=image.load_img(\"img-RF.jpg\",target_size=(224,224))\n",
        "        x=image.img_to_array(img)\n",
        "        x=x/255\n",
        "\n",
        "        x=np.expand_dims(x,axis=0)\n",
        "        img_data=preprocess_input(x)\n",
        "\n",
        "        a=np.argmax(modelresnet.predict(img_data), axis=1)\n",
        "\n",
        "        st.success(\"The Image is found to be : \" + Results[int(a)])\n",
        "        # st.write(Results[int(a)])\n",
        "\n",
        "  \n",
        "if __name__ == '__main__':\n",
        "    main()"
      ]
    },
    {
      "cell_type": "code",
      "execution_count": 8,
      "metadata": {
        "colab": {
          "base_uri": "https://localhost:8080/"
        },
        "id": "gpebOsLn2qWh",
        "outputId": "bee7e835-b2ee-482c-bcc9-05bb644daf0e"
      },
      "outputs": [
        {
          "name": "stdout",
          "output_type": "stream",
          "text": [
            "Authtoken saved to configuration file: /root/.ngrok2/ngrok.yml\n"
          ]
        },
        {
          "data": {
            "text/plain": [
              "<NgrokTunnel: \"http://6d4f-35-231-211-58.ngrok.io\" -> \"http://localhost:80\">"
            ]
          },
          "execution_count": 8,
          "metadata": {},
          "output_type": "execute_result"
        }
      ],
      "source": [
        "## Use this block to run the pyngrok and open the streamlit app on a server whose http link will be displayed below in the output\n",
        "\n",
        "from pyngrok import ngrok\n",
        "\n",
        "!ngrok authtoken 261WeU8cQS95u1eoGredriNItwn_2ZsF6FKumDXm8H1geNLeo\n",
        "\n",
        "!streamlit run --server.port 80 app.py &>/dev/null&\n",
        "\n",
        "publ_url = ngrok.connect(port='8501')\n",
        "\n",
        "publ_url "
      ]
    },
    {
      "cell_type": "code",
      "execution_count": 2,
      "metadata": {
        "id": "2QkzX04L8vZ0"
      },
      "outputs": [],
      "source": [
        "!pgrep streamlit"
      ]
    },
    {
      "cell_type": "code",
      "execution_count": 3,
      "metadata": {
        "colab": {
          "base_uri": "https://localhost:8080/",
          "height": 168
        },
        "id": "yqCJsKlXmdk8",
        "outputId": "d9bc0e46-56fa-41ca-b124-74848fb06766"
      },
      "outputs": [
        {
          "ename": "NameError",
          "evalue": "ignored",
          "output_type": "error",
          "traceback": [
            "\u001b[0;31m---------------------------------------------------------------------------\u001b[0m",
            "\u001b[0;31mNameError\u001b[0m                                 Traceback (most recent call last)",
            "\u001b[0;32m<ipython-input-3-582e608e03de>\u001b[0m in \u001b[0;36m<module>\u001b[0;34m()\u001b[0m\n\u001b[0;32m----> 1\u001b[0;31m \u001b[0mngrok\u001b[0m\u001b[0;34m.\u001b[0m\u001b[0mkill\u001b[0m\u001b[0;34m(\u001b[0m\u001b[0;34m)\u001b[0m\u001b[0;34m\u001b[0m\u001b[0;34m\u001b[0m\u001b[0m\n\u001b[0m",
            "\u001b[0;31mNameError\u001b[0m: name 'ngrok' is not defined"
          ]
        }
      ],
      "source": [
        "ngrok.kill()"
      ]
    },
    {
      "cell_type": "code",
      "execution_count": null,
      "metadata": {
        "id": "qqliEpFWmfNV"
      },
      "outputs": [],
      "source": []
    }
  ],
  "metadata": {
    "accelerator": "GPU",
    "colab": {
      "name": "GUI APP",
      "provenance": []
    },
    "kernelspec": {
      "display_name": "Python 3",
      "name": "python3"
    },
    "language_info": {
      "name": "python"
    }
  },
  "nbformat": 4,
  "nbformat_minor": 0
}
